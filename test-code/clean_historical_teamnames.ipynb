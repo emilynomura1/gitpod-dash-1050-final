{
 "cells": [
  {
   "cell_type": "code",
   "execution_count": 1,
   "id": "bacc5e7b",
   "metadata": {},
   "outputs": [],
   "source": [
    "import pandas as pd"
   ]
  },
  {
   "cell_type": "code",
   "execution_count": 2,
   "id": "cd0a3bda",
   "metadata": {},
   "outputs": [],
   "source": [
    "historical = pd.read_csv(\"/Users/emilynomura/Downloads/final_historical.csv\") #filepath to historical data"
   ]
  },
  {
   "cell_type": "code",
   "execution_count": 45,
   "id": "1b4d8fb2",
   "metadata": {},
   "outputs": [
    {
     "data": {
      "text/plain": [
       "2153       Minnesota Vikings\n",
       "2154     Pittsburgh Steelers\n",
       "2155    New England Patriots\n",
       "2156     Philadelphia Eagles\n",
       "2157    New England Patriots\n",
       "Name: home, dtype: object"
      ]
     },
     "execution_count": 45,
     "metadata": {},
     "output_type": "execute_result"
    }
   ],
   "source": [
    "# Look at team names composed of 2 and 3 strings\n",
    "historical['home'].tail()"
   ]
  },
  {
   "cell_type": "code",
   "execution_count": 12,
   "id": "eafee58d",
   "metadata": {},
   "outputs": [
    {
     "name": "stdout",
     "output_type": "stream",
     "text": [
      "Arizona Cardinals\n",
      "['Arizona', 'Cardinals']\n",
      "Cardinals\n"
     ]
    }
   ],
   "source": [
    "# Test on one entry\n",
    "test_team = historical['home'][0]\n",
    "print(test_team)\n",
    "print(test_team.split())\n",
    "print(test_team.split()[-1])"
   ]
  },
  {
   "cell_type": "code",
   "execution_count": 19,
   "id": "9a162fa8",
   "metadata": {},
   "outputs": [
    {
     "name": "stdout",
     "output_type": "stream",
     "text": [
      "New England Patriots\n",
      "['New', 'England', 'Patriots']\n",
      "Patriots\n"
     ]
    }
   ],
   "source": [
    "# Test on a 3-word entry\n",
    "test_team3 = historical['home'][2157]\n",
    "print(test_team3)\n",
    "print(test_team3.split())\n",
    "print(test_team3.split()[-1])"
   ]
  },
  {
   "cell_type": "code",
   "execution_count": 43,
   "id": "73b87c35",
   "metadata": {},
   "outputs": [],
   "source": [
    "# Create 2 new columns: home_new and away_new to remove city from team name\n",
    "# We use str.rsplit to split an entire pandas series from the right\n",
    "historical['home_new'] = historical['home'].str.rsplit(n=1, expand=True)[:][1]\n",
    "historical['away_new'] = historical['away'].str.rsplit(n=1, expand=True)[:][1]"
   ]
  },
  {
   "cell_type": "code",
   "execution_count": 47,
   "id": "25474fcd",
   "metadata": {},
   "outputs": [
    {
     "data": {
      "text/plain": [
       "0    Cardinals\n",
       "1        Bills\n",
       "2     Panthers\n",
       "3       Browns\n",
       "4      Cowboys\n",
       "Name: home_new, dtype: object"
      ]
     },
     "execution_count": 47,
     "metadata": {},
     "output_type": "execute_result"
    }
   ],
   "source": [
    "historical['home_new'].head()"
   ]
  },
  {
   "cell_type": "code",
   "execution_count": 48,
   "id": "56d4aa17",
   "metadata": {},
   "outputs": [],
   "source": [
    "historical.to_csv('/Users/emilynomura/Downloads/historical_new.csv') #filepath to save new csv"
   ]
  },
  {
   "cell_type": "code",
   "execution_count": null,
   "id": "dedcc2c4",
   "metadata": {},
   "outputs": [],
   "source": []
  }
 ],
 "metadata": {
  "kernelspec": {
   "display_name": "Python 3 (ipykernel)",
   "language": "python",
   "name": "python3"
  },
  "language_info": {
   "codemirror_mode": {
    "name": "ipython",
    "version": 3
   },
   "file_extension": ".py",
   "mimetype": "text/x-python",
   "name": "python",
   "nbconvert_exporter": "python",
   "pygments_lexer": "ipython3",
   "version": "3.9.0"
  }
 },
 "nbformat": 4,
 "nbformat_minor": 5
}
