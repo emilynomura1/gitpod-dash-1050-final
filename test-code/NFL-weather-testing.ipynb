{
 "cells": [
  {
   "cell_type": "code",
   "execution_count": 54,
   "id": "daa60c4d",
   "metadata": {},
   "outputs": [],
   "source": [
    "# Load packages necessary\n",
    "import pandas as pd\n",
    "from datetime import datetime"
   ]
  },
  {
   "cell_type": "code",
   "execution_count": 114,
   "id": "8aac2cec",
   "metadata": {},
   "outputs": [
    {
     "data": {
      "text/html": [
       "<div>\n",
       "<style scoped>\n",
       "    .dataframe tbody tr th:only-of-type {\n",
       "        vertical-align: middle;\n",
       "    }\n",
       "\n",
       "    .dataframe tbody tr th {\n",
       "        vertical-align: top;\n",
       "    }\n",
       "\n",
       "    .dataframe thead th {\n",
       "        text-align: right;\n",
       "    }\n",
       "</style>\n",
       "<table border=\"1\" class=\"dataframe\">\n",
       "  <thead>\n",
       "    <tr style=\"text-align: right;\">\n",
       "      <th></th>\n",
       "      <th>Away</th>\n",
       "      <th>Home</th>\n",
       "      <th>Time (ET)</th>\n",
       "      <th>Forecast</th>\n",
       "      <th>Wind</th>\n",
       "    </tr>\n",
       "  </thead>\n",
       "  <tbody>\n",
       "    <tr>\n",
       "      <th>0</th>\n",
       "      <td>Steelers</td>\n",
       "      <td>Vikings</td>\n",
       "      <td>Final: 28 - 36</td>\n",
       "      <td>DOME</td>\n",
       "      <td>9m WNW</td>\n",
       "    </tr>\n",
       "    <tr>\n",
       "      <th>1</th>\n",
       "      <td>49ers</td>\n",
       "      <td>Bengals</td>\n",
       "      <td>12/12 01:00 PM</td>\n",
       "      <td>41f Clear</td>\n",
       "      <td>6m SW</td>\n",
       "    </tr>\n",
       "    <tr>\n",
       "      <th>2</th>\n",
       "      <td>Ravens</td>\n",
       "      <td>Browns</td>\n",
       "      <td>12/12 01:00 PM</td>\n",
       "      <td>40f Clear</td>\n",
       "      <td>13m SW</td>\n",
       "    </tr>\n",
       "    <tr>\n",
       "      <th>3</th>\n",
       "      <td>Jaguars</td>\n",
       "      <td>Titans</td>\n",
       "      <td>12/12 01:00 PM</td>\n",
       "      <td>43f Clear</td>\n",
       "      <td>2m E</td>\n",
       "    </tr>\n",
       "    <tr>\n",
       "      <th>4</th>\n",
       "      <td>Raiders</td>\n",
       "      <td>Chiefs</td>\n",
       "      <td>12/12 01:00 PM</td>\n",
       "      <td>46f Clear</td>\n",
       "      <td>16m SSW</td>\n",
       "    </tr>\n",
       "  </tbody>\n",
       "</table>\n",
       "</div>"
      ],
      "text/plain": [
       "       Away     Home       Time (ET)   Forecast     Wind\n",
       "0  Steelers  Vikings  Final: 28 - 36       DOME   9m WNW\n",
       "1     49ers  Bengals  12/12 01:00 PM  41f Clear    6m SW\n",
       "2    Ravens   Browns  12/12 01:00 PM  40f Clear   13m SW\n",
       "3   Jaguars   Titans  12/12 01:00 PM  43f Clear     2m E\n",
       "4   Raiders   Chiefs  12/12 01:00 PM  46f Clear  16m SSW"
      ]
     },
     "execution_count": 114,
     "metadata": {},
     "output_type": "execute_result"
    }
   ],
   "source": [
    "# Import previous week data\n",
    "week14 = pd.read_html(\"https://www.nflweather.com/en/week/2021/week-14/\")[0]\n",
    "week14 = week14.drop(['Unnamed: 0','Game','Game.1','Game.2','TV','Unnamed: 8','Extended Forecast','Unnamed: 12'], axis=1)\n",
    "week14.head()"
   ]
  },
  {
   "cell_type": "code",
   "execution_count": 118,
   "id": "9cc533e0",
   "metadata": {},
   "outputs": [
    {
     "data": {
      "text/html": [
       "<div>\n",
       "<style scoped>\n",
       "    .dataframe tbody tr th:only-of-type {\n",
       "        vertical-align: middle;\n",
       "    }\n",
       "\n",
       "    .dataframe tbody tr th {\n",
       "        vertical-align: top;\n",
       "    }\n",
       "\n",
       "    .dataframe thead th {\n",
       "        text-align: right;\n",
       "    }\n",
       "</style>\n",
       "<table border=\"1\" class=\"dataframe\">\n",
       "  <thead>\n",
       "    <tr style=\"text-align: right;\">\n",
       "      <th></th>\n",
       "      <th>Away</th>\n",
       "      <th>Home</th>\n",
       "      <th>Time (ET)</th>\n",
       "      <th>Forecast</th>\n",
       "      <th>Wind</th>\n",
       "    </tr>\n",
       "  </thead>\n",
       "  <tbody>\n",
       "    <tr>\n",
       "      <th>0</th>\n",
       "      <td>Cowboys</td>\n",
       "      <td>Saints</td>\n",
       "      <td>Final: 27 - 17</td>\n",
       "      <td>DOME</td>\n",
       "      <td>3m SSW</td>\n",
       "    </tr>\n",
       "    <tr>\n",
       "      <th>1</th>\n",
       "      <td>Buccaneers</td>\n",
       "      <td>Falcons</td>\n",
       "      <td>Final: 30 - 17</td>\n",
       "      <td>DOME</td>\n",
       "      <td>2m E</td>\n",
       "    </tr>\n",
       "    <tr>\n",
       "      <th>2</th>\n",
       "      <td>Cardinals</td>\n",
       "      <td>Bears</td>\n",
       "      <td>Final: 33 - 22</td>\n",
       "      <td>35f Rain</td>\n",
       "      <td>16m SSE</td>\n",
       "    </tr>\n",
       "    <tr>\n",
       "      <th>3</th>\n",
       "      <td>Chargers</td>\n",
       "      <td>Bengals</td>\n",
       "      <td>Final: 41 - 22</td>\n",
       "      <td>46f Mostly Cloudy</td>\n",
       "      <td>7m SSE</td>\n",
       "    </tr>\n",
       "    <tr>\n",
       "      <th>4</th>\n",
       "      <td>Vikings</td>\n",
       "      <td>Lions</td>\n",
       "      <td>Final: 27 - 29</td>\n",
       "      <td>DOME</td>\n",
       "      <td>13m ESE</td>\n",
       "    </tr>\n",
       "  </tbody>\n",
       "</table>\n",
       "</div>"
      ],
      "text/plain": [
       "         Away     Home       Time (ET)           Forecast     Wind\n",
       "0     Cowboys   Saints  Final: 27 - 17               DOME   3m SSW\n",
       "1  Buccaneers  Falcons  Final: 30 - 17               DOME     2m E\n",
       "2   Cardinals    Bears  Final: 33 - 22           35f Rain  16m SSE\n",
       "3    Chargers  Bengals  Final: 41 - 22  46f Mostly Cloudy   7m SSE\n",
       "4     Vikings    Lions  Final: 27 - 29               DOME  13m ESE"
      ]
     },
     "execution_count": 118,
     "metadata": {},
     "output_type": "execute_result"
    }
   ],
   "source": [
    "# Take a look at current week \n",
    "week13 = pd.read_html(\"https://www.nflweather.com/en/week/2021/week-13/\")[0]\n",
    "week13 = week13.drop(['Unnamed: 0','Game','Game.1','Game.2','TV','Unnamed: 8','Extended Forecast','Unnamed: 12'], axis=1)\n",
    "week13.head()"
   ]
  },
  {
   "cell_type": "code",
   "execution_count": 119,
   "id": "accbdb4d",
   "metadata": {},
   "outputs": [],
   "source": [
    "# Code chunk to check if games have been finished. If so, we want to append them to our database\n",
    "rows_to_append = []\n",
    "for index, row in week13.iterrows():\n",
    "    if \"Final\" in row['Time (ET)']:\n",
    "        rows_to_append.append(row)"
   ]
  },
  {
   "cell_type": "code",
   "execution_count": 120,
   "id": "9492f65b",
   "metadata": {},
   "outputs": [
    {
     "data": {
      "text/html": [
       "<div>\n",
       "<style scoped>\n",
       "    .dataframe tbody tr th:only-of-type {\n",
       "        vertical-align: middle;\n",
       "    }\n",
       "\n",
       "    .dataframe tbody tr th {\n",
       "        vertical-align: top;\n",
       "    }\n",
       "\n",
       "    .dataframe thead th {\n",
       "        text-align: right;\n",
       "    }\n",
       "</style>\n",
       "<table border=\"1\" class=\"dataframe\">\n",
       "  <thead>\n",
       "    <tr style=\"text-align: right;\">\n",
       "      <th></th>\n",
       "      <th>Away</th>\n",
       "      <th>Home</th>\n",
       "      <th>Time (ET)</th>\n",
       "      <th>Forecast</th>\n",
       "      <th>Wind</th>\n",
       "    </tr>\n",
       "  </thead>\n",
       "  <tbody>\n",
       "    <tr>\n",
       "      <th>0</th>\n",
       "      <td>Cowboys</td>\n",
       "      <td>Saints</td>\n",
       "      <td>Final: 27 - 17</td>\n",
       "      <td>DOME</td>\n",
       "      <td>3m SSW</td>\n",
       "    </tr>\n",
       "    <tr>\n",
       "      <th>1</th>\n",
       "      <td>Buccaneers</td>\n",
       "      <td>Falcons</td>\n",
       "      <td>Final: 30 - 17</td>\n",
       "      <td>DOME</td>\n",
       "      <td>2m E</td>\n",
       "    </tr>\n",
       "    <tr>\n",
       "      <th>2</th>\n",
       "      <td>Cardinals</td>\n",
       "      <td>Bears</td>\n",
       "      <td>Final: 33 - 22</td>\n",
       "      <td>35f Rain</td>\n",
       "      <td>16m SSE</td>\n",
       "    </tr>\n",
       "    <tr>\n",
       "      <th>3</th>\n",
       "      <td>Chargers</td>\n",
       "      <td>Bengals</td>\n",
       "      <td>Final: 41 - 22</td>\n",
       "      <td>46f Mostly Cloudy</td>\n",
       "      <td>7m SSE</td>\n",
       "    </tr>\n",
       "    <tr>\n",
       "      <th>4</th>\n",
       "      <td>Vikings</td>\n",
       "      <td>Lions</td>\n",
       "      <td>Final: 27 - 29</td>\n",
       "      <td>DOME</td>\n",
       "      <td>13m ESE</td>\n",
       "    </tr>\n",
       "  </tbody>\n",
       "</table>\n",
       "</div>"
      ],
      "text/plain": [
       "         Away     Home       Time (ET)           Forecast     Wind\n",
       "0     Cowboys   Saints  Final: 27 - 17               DOME   3m SSW\n",
       "1  Buccaneers  Falcons  Final: 30 - 17               DOME     2m E\n",
       "2   Cardinals    Bears  Final: 33 - 22           35f Rain  16m SSE\n",
       "3    Chargers  Bengals  Final: 41 - 22  46f Mostly Cloudy   7m SSE\n",
       "4     Vikings    Lions  Final: 27 - 29               DOME  13m ESE"
      ]
     },
     "execution_count": 120,
     "metadata": {},
     "output_type": "execute_result"
    }
   ],
   "source": [
    "# We can assign this to a variable and use this to append to our database\n",
    "pd.DataFrame(rows_to_append).head()"
   ]
  },
  {
   "cell_type": "code",
   "execution_count": 121,
   "id": "9820b745",
   "metadata": {},
   "outputs": [
    {
     "data": {
      "text/plain": [
       "0     Final: 28 - 36\n",
       "1     12/12 01:00 PM\n",
       "2     12/12 01:00 PM\n",
       "3     12/12 01:00 PM\n",
       "4     12/12 01:00 PM\n",
       "5     12/12 01:00 PM\n",
       "6     12/12 01:00 PM\n",
       "7     12/12 01:00 PM\n",
       "8     12/12 01:00 PM\n",
       "9     12/12 04:05 PM\n",
       "10    12/12 04:05 PM\n",
       "11    12/12 04:25 PM\n",
       "12    12/12 08:20 PM\n",
       "13    12/13 08:15 PM\n",
       "Name: Time (ET), dtype: object"
      ]
     },
     "execution_count": 121,
     "metadata": {},
     "output_type": "execute_result"
    }
   ],
   "source": [
    "# Take a look at time column which changes to a final score column after game has been completed.\n",
    "print(week14['Time (ET)'])"
   ]
  },
  {
   "cell_type": "code",
   "execution_count": 122,
   "id": "13614ecb",
   "metadata": {},
   "outputs": [
    {
     "name": "stdout",
     "output_type": "stream",
     "text": [
      "2021-12-09 00:00:00\n",
      "2021-12-09\n"
     ]
    }
   ],
   "source": [
    "# Assign a dummy date to use in creating a unique event ID\n",
    "currentYear = datetime.now().year\n",
    "dummy_date = \"2021-12-09\"\n",
    "dummy_date_clean = datetime.strptime(dummy_date, '%Y-%m-%d')\n",
    "print(dummy_date_clean)\n",
    "print(dummy_date_clean.date())"
   ]
  },
  {
   "cell_type": "code",
   "execution_count": 123,
   "id": "30269153",
   "metadata": {},
   "outputs": [
    {
     "name": "stdout",
     "output_type": "stream",
     "text": [
      "2021-12-09-Vikings-Steelers\n"
     ]
    }
   ],
   "source": [
    "# Test creating a unique event ID\n",
    "print(str(dummy_date_clean.date()) + \"-\" + str(week14['Home'][0]) + \"-\" + str(week14['Away'][0]))"
   ]
  },
  {
   "cell_type": "code",
   "execution_count": 124,
   "id": "80792e8c",
   "metadata": {},
   "outputs": [],
   "source": [
    "# Create a new column called unique_event_id and add to the week14 dataframe\n",
    "week14['unique_event_id'] = str(dummy_date_clean.date()) + \"-\" + week14['Home'] + \"-\" + week14['Away']"
   ]
  },
  {
   "cell_type": "code",
   "execution_count": 125,
   "id": "65a104b5",
   "metadata": {},
   "outputs": [
    {
     "data": {
      "text/plain": [
       "0       2021-12-09-Vikings-Steelers\n",
       "1          2021-12-09-Bengals-49ers\n",
       "2          2021-12-09-Browns-Ravens\n",
       "3         2021-12-09-Titans-Jaguars\n",
       "4         2021-12-09-Chiefs-Raiders\n",
       "5            2021-12-09-Jets-Saints\n",
       "6     2021-12-09-Washington-Cowboys\n",
       "7       2021-12-09-Panthers-Falcons\n",
       "8        2021-12-09-Texans-Seahawks\n",
       "9          2021-12-09-Broncos-Lions\n",
       "10       2021-12-09-Chargers-Giants\n",
       "11      2021-12-09-Buccaneers-Bills\n",
       "12         2021-12-09-Packers-Bears\n",
       "13        2021-12-09-Cardinals-Rams\n",
       "Name: unique_event_id, dtype: object"
      ]
     },
     "execution_count": 125,
     "metadata": {},
     "output_type": "execute_result"
    }
   ],
   "source": [
    "week14['unique_event_id']"
   ]
  },
  {
   "cell_type": "code",
   "execution_count": 126,
   "id": "998d0b15",
   "metadata": {},
   "outputs": [
    {
     "data": {
      "text/html": [
       "<div>\n",
       "<style scoped>\n",
       "    .dataframe tbody tr th:only-of-type {\n",
       "        vertical-align: middle;\n",
       "    }\n",
       "\n",
       "    .dataframe tbody tr th {\n",
       "        vertical-align: top;\n",
       "    }\n",
       "\n",
       "    .dataframe thead th {\n",
       "        text-align: right;\n",
       "    }\n",
       "</style>\n",
       "<table border=\"1\" class=\"dataframe\">\n",
       "  <thead>\n",
       "    <tr style=\"text-align: right;\">\n",
       "      <th></th>\n",
       "      <th>Away</th>\n",
       "      <th>Home</th>\n",
       "      <th>Time (ET)</th>\n",
       "      <th>Forecast</th>\n",
       "      <th>Wind</th>\n",
       "      <th>unique_event_id</th>\n",
       "    </tr>\n",
       "  </thead>\n",
       "  <tbody>\n",
       "    <tr>\n",
       "      <th>0</th>\n",
       "      <td>Steelers</td>\n",
       "      <td>Vikings</td>\n",
       "      <td>Final: 28 - 36</td>\n",
       "      <td>DOME</td>\n",
       "      <td>9m WNW</td>\n",
       "      <td>2021-12-09-Vikings-Steelers</td>\n",
       "    </tr>\n",
       "    <tr>\n",
       "      <th>1</th>\n",
       "      <td>49ers</td>\n",
       "      <td>Bengals</td>\n",
       "      <td>12/12 01:00 PM</td>\n",
       "      <td>41f Clear</td>\n",
       "      <td>6m SW</td>\n",
       "      <td>2021-12-09-Bengals-49ers</td>\n",
       "    </tr>\n",
       "    <tr>\n",
       "      <th>2</th>\n",
       "      <td>Ravens</td>\n",
       "      <td>Browns</td>\n",
       "      <td>12/12 01:00 PM</td>\n",
       "      <td>40f Clear</td>\n",
       "      <td>13m SW</td>\n",
       "      <td>2021-12-09-Browns-Ravens</td>\n",
       "    </tr>\n",
       "    <tr>\n",
       "      <th>3</th>\n",
       "      <td>Jaguars</td>\n",
       "      <td>Titans</td>\n",
       "      <td>12/12 01:00 PM</td>\n",
       "      <td>43f Clear</td>\n",
       "      <td>2m E</td>\n",
       "      <td>2021-12-09-Titans-Jaguars</td>\n",
       "    </tr>\n",
       "    <tr>\n",
       "      <th>4</th>\n",
       "      <td>Raiders</td>\n",
       "      <td>Chiefs</td>\n",
       "      <td>12/12 01:00 PM</td>\n",
       "      <td>46f Clear</td>\n",
       "      <td>16m SSW</td>\n",
       "      <td>2021-12-09-Chiefs-Raiders</td>\n",
       "    </tr>\n",
       "  </tbody>\n",
       "</table>\n",
       "</div>"
      ],
      "text/plain": [
       "       Away     Home       Time (ET)   Forecast     Wind  \\\n",
       "0  Steelers  Vikings  Final: 28 - 36       DOME   9m WNW   \n",
       "1     49ers  Bengals  12/12 01:00 PM  41f Clear    6m SW   \n",
       "2    Ravens   Browns  12/12 01:00 PM  40f Clear   13m SW   \n",
       "3   Jaguars   Titans  12/12 01:00 PM  43f Clear     2m E   \n",
       "4   Raiders   Chiefs  12/12 01:00 PM  46f Clear  16m SSW   \n",
       "\n",
       "               unique_event_id  \n",
       "0  2021-12-09-Vikings-Steelers  \n",
       "1     2021-12-09-Bengals-49ers  \n",
       "2     2021-12-09-Browns-Ravens  \n",
       "3    2021-12-09-Titans-Jaguars  \n",
       "4    2021-12-09-Chiefs-Raiders  "
      ]
     },
     "execution_count": 126,
     "metadata": {},
     "output_type": "execute_result"
    }
   ],
   "source": [
    "week14.head()"
   ]
  },
  {
   "cell_type": "code",
   "execution_count": null,
   "id": "77e407b8",
   "metadata": {},
   "outputs": [],
   "source": []
  }
 ],
 "metadata": {
  "kernelspec": {
   "display_name": "Python 3 (ipykernel)",
   "language": "python",
   "name": "python3"
  },
  "language_info": {
   "codemirror_mode": {
    "name": "ipython",
    "version": 3
   },
   "file_extension": ".py",
   "mimetype": "text/x-python",
   "name": "python",
   "nbconvert_exporter": "python",
   "pygments_lexer": "ipython3",
   "version": "3.9.0"
  }
 },
 "nbformat": 4,
 "nbformat_minor": 5
}
